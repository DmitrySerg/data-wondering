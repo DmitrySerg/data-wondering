{
 "cells": [
  {
   "cell_type": "code",
   "execution_count": null,
   "metadata": {},
   "outputs": [],
   "source": []
  },
  {
   "cell_type": "code",
   "execution_count": 2,
   "metadata": {},
   "outputs": [],
   "source": [
    "import nashpy as nash\n",
    "import pandas as pd\n",
    "import numpy as np\n",
    "import matplotlib.pyplot as plt\n",
    "import seaborn as sns"
   ]
  },
  {
   "cell_type": "code",
   "execution_count": 64,
   "metadata": {},
   "outputs": [],
   "source": [
    "import warnings\n",
    "warnings.filterwarnings(\"ignore\")"
   ]
  },
  {
   "cell_type": "markdown",
   "metadata": {},
   "source": [
    "# Space prisoners\n",
    "\n",
    "|         | **Destroy**  | **Befriend** | **Do nothing**  |\n",
    "|---------|----------|------------|-----------|\n",
    "| **Destroy** | $-\\infty, -\\infty$ | $d_1, -\\infty$    | $d_1, -\\infty$ |\n",
    "| **Befriend** | $-\\infty, d_2$    | $f_1, f_2$       | $0, 0$    |\n",
    "| **Do nothing** | $-\\infty, d_2$ | $0, 0$    | $0, 0$ |\n"
   ]
  },
  {
   "cell_type": "code",
   "execution_count": 68,
   "metadata": {},
   "outputs": [],
   "source": [
    "payoffs = np.array([\n",
    "    [[-999, -999], [-1, -999], [-1, -999]],\n",
    "    [[-999, -1], [1, 1], [0, 0]],\n",
    "    [[-999, -1], [0, 0], [0, 0]]\n",
    "])\n",
    "\n",
    "C_1 = payoffs[:, :, 0]  # Player 1's payoffs\n",
    "C_2 = payoffs[:, :, 1]  # Player 2's payoffs\n",
    "\n",
    "game = nash.Game(C_1, C_2)"
   ]
  },
  {
   "cell_type": "code",
   "execution_count": 69,
   "metadata": {},
   "outputs": [],
   "source": [
    "# payoffs = np.array([\n",
    "#     [[-np.inf, -np.inf], [-1, -np.inf], [-1, -np.inf]],\n",
    "#     [[-np.inf, -1], [1, 1], [0, 0]],\n",
    "#     [[-np.inf, -1], [0, 0], [0, 0]]\n",
    "# ])\n",
    "\n",
    "# C_1 = payoffs[:, :, 0]  # Player 1's payoffs\n",
    "# C_2 = payoffs[:, :, 1]  # Player 2's payoffs\n",
    "\n",
    "# game = nash.Game(C_1, C_2)"
   ]
  },
  {
   "cell_type": "code",
   "execution_count": 70,
   "metadata": {},
   "outputs": [
    {
     "data": {
      "text/plain": [
       "Bi matrix game with payoff matrices:\n",
       "\n",
       "Row player:\n",
       "[[-999   -1   -1]\n",
       " [-999    1    0]\n",
       " [-999    0    0]]\n",
       "\n",
       "Column player:\n",
       "[[-999 -999 -999]\n",
       " [  -1    1    0]\n",
       " [  -1    0    0]]"
      ]
     },
     "execution_count": 70,
     "metadata": {},
     "output_type": "execute_result"
    }
   ],
   "source": [
    "game"
   ]
  },
  {
   "cell_type": "code",
   "execution_count": 71,
   "metadata": {},
   "outputs": [
    {
     "name": "stdout",
     "output_type": "stream",
     "text": [
      "(array([1., 0., 0.]), array([1., 0., 0.]))\n",
      "(array([0., 1., 0.]), array([0., 1., 0.]))\n",
      "(array([0., 0., 1.]), array([0., 0., 1.]))\n"
     ]
    }
   ],
   "source": [
    "for eq in game.support_enumeration():\n",
    "    print(eq)"
   ]
  },
  {
   "cell_type": "code",
   "execution_count": 72,
   "metadata": {},
   "outputs": [
    {
     "name": "stdout",
     "output_type": "stream",
     "text": [
      "[[-0.  0.  1.]\n",
      " [-0.  0.  1.]]\n",
      "[[-0.  1. -0.]\n",
      " [-0.  1. -0.]]\n"
     ]
    }
   ],
   "source": [
    "for eq in game.vertex_enumeration():\n",
    "    print(np.round(eq))"
   ]
  },
  {
   "cell_type": "code",
   "execution_count": 30,
   "metadata": {},
   "outputs": [
    {
     "data": {
      "text/plain": [
       "<generator object fictitious_play at 0x7fb5101856d0>"
      ]
     },
     "execution_count": 30,
     "metadata": {},
     "output_type": "execute_result"
    }
   ],
   "source": [
    "game.fictitious_play(10)"
   ]
  },
  {
   "cell_type": "code",
   "execution_count": 102,
   "metadata": {},
   "outputs": [],
   "source": [
    "iterations = 500\n",
    "play_counts = game.fictitious_play(iterations=iterations)\n",
    "    "
   ]
  },
  {
   "cell_type": "code",
   "execution_count": 103,
   "metadata": {},
   "outputs": [],
   "source": [
    "play_counts = np.array(list(play_counts))"
   ]
  },
  {
   "cell_type": "code",
   "execution_count": 113,
   "metadata": {},
   "outputs": [
    {
     "data": {
      "text/plain": [
       "(501, 2, 3)"
      ]
     },
     "execution_count": 113,
     "metadata": {},
     "output_type": "execute_result"
    }
   ],
   "source": [
    "play_counts.shape"
   ]
  },
  {
   "cell_type": "code",
   "execution_count": 119,
   "metadata": {},
   "outputs": [],
   "source": [
    "c1_choices = play_counts[:, 0, :] \n",
    "c2_choices = play_counts[:, 1, :]\n",
    "\n",
    "c1_choices = c1_choices / c1_choices.sum(axis=1)[:, None]\n",
    "c2_choices = c2_choices / c2_choices.sum(axis=1)[:, None]"
   ]
  },
  {
   "cell_type": "code",
   "execution_count": 123,
   "metadata": {},
   "outputs": [
    {
     "data": {
      "image/png": "[encoded data removed]",
      "text/plain": [
       "<Figure size 720x432 with 1 Axes>"
      ]
     },
     "metadata": {
      "needs_background": "light"
     },
     "output_type": "display_data"
    }
   ],
   "source": [
    "plt.figure(figsize=(10, 6))\n",
    "for strategy, name in zip(c1_choices, [''])\n",
    "    plt.plot(c1_choices[:, i], label=f\"Player 1 chooses {i}\")\n",
    "\n",
    "plt.legend()\n",
    "plt.show()"
   ]
  },
  {
   "cell_type": "code",
   "execution_count": 120,
   "metadata": {},
   "outputs": [
    {
     "data": {
      "text/plain": [
       "array([[       nan,        nan,        nan],\n",
       "       [1.        , 0.        , 0.        ],\n",
       "       [0.5       , 0.        , 0.5       ],\n",
       "       ...,\n",
       "       [0.00200803, 0.9939759 , 0.00401606],\n",
       "       [0.00200401, 0.99398798, 0.00400802],\n",
       "       [0.002     , 0.994     , 0.004     ]])"
      ]
     },
     "execution_count": 120,
     "metadata": {},
     "output_type": "execute_result"
    }
   ],
   "source": [
    "c1_choices"
   ]
  },
  {
   "cell_type": "code",
   "execution_count": 104,
   "metadata": {},
   "outputs": [
    {
     "data": {
      "text/plain": [
       "<matplotlib.legend.Legend at 0x7fb540f55730>"
      ]
     },
     "execution_count": 104,
     "metadata": {},
     "output_type": "execute_result"
    },
    {
     "data": {
      "image/png": "[encoded data removed]",
      "text/plain": [
       "<Figure size 720x432 with 1 Axes>"
      ]
     },
     "metadata": {
      "needs_background": "light"
     },
     "output_type": "display_data"
    }
   ],
   "source": [
    "plt.figure(figsize=(10, 6))\n",
    "probabilities = [row_play_counts / np.sum(row_play_counts) for row_play_counts, col_play_counts in play_counts]\n",
    "for number, strategy in enumerate(zip(*probabilities)):\n",
    "    plt.plot(strategy, label=f\"$s_{number}$\")  \n",
    "plt.xlabel(\"Iteration\")  \n",
    "plt.ylabel(\"Probability\")  \n",
    "plt.title(\"Actions taken by row player\")  \n",
    "plt.legend()  "
   ]
  },
  {
   "cell_type": "code",
   "execution_count": 40,
   "metadata": {},
   "outputs": [
    {
     "name": "stdout",
     "output_type": "stream",
     "text": [
      "Player 1 strategy: [0. 0. 1.], Player 2 strategy: [0. 0. 1.]\n",
      "Player 1 strategy: [-0.  1. -0.], Player 2 strategy: [-0.  1. -0.]\n"
     ]
    },
    {
     "name": "stderr",
     "output_type": "stream",
     "text": [
      "/Users/dmitryserg/opt/anaconda3/lib/python3.9/site-packages/nashpy/polytope/polytope.py:109: RuntimeWarning: divide by zero encountered in divide\n",
      "  hs = HalfspaceIntersection(halfspaces, feasible_point)\n",
      "/Users/dmitryserg/opt/anaconda3/lib/python3.9/site-packages/nashpy/polytope/polytope.py:109: RuntimeWarning: invalid value encountered in divide\n",
      "  hs = HalfspaceIntersection(halfspaces, feasible_point)\n"
     ]
    }
   ],
   "source": [
    "# Define the payoff matrices for both players\n",
    "payoffs_player1 = np.array([\n",
    "    [-1000, -1, -1],\n",
    "    [-1000, 1, 0],\n",
    "    [-1000, 0, 0]\n",
    "])\n",
    "\n",
    "payoffs_player2 = np.array([\n",
    "    [-1000, -1000, -1000],\n",
    "    [-1, 1, 0],\n",
    "    [-1, 0, 0]\n",
    "])\n",
    "\n",
    "# Create the game\n",
    "game = nash.Game(payoffs_player1, payoffs_player2)\n",
    "\n",
    "# Verify Nash equilibria\n",
    "equilibria = list(game.vertex_enumeration())\n",
    "\n",
    "# Print the equilibria\n",
    "for eq in equilibria:\n",
    "    print(f\"Player 1 strategy: {np.round(eq[0])}, Player 2 strategy: {np.round(eq[1])}\")"
   ]
  },
  {
   "cell_type": "code",
   "execution_count": 44,
   "metadata": {},
   "outputs": [
    {
     "name": "stdout",
     "output_type": "stream",
     "text": [
      "Player 1 strategy: [0. 0. 1.]\n",
      "Player 2 strategy: [0. 0. 1.]\n",
      "\n",
      "Player 1 strategy: [-0.  1. -0.]\n",
      "Player 2 strategy: [-0.  1. -0.]\n",
      "\n"
     ]
    },
    {
     "name": "stderr",
     "output_type": "stream",
     "text": [
      "/Users/dmitryserg/opt/anaconda3/lib/python3.9/site-packages/nashpy/polytope/polytope.py:109: RuntimeWarning: divide by zero encountered in divide\n",
      "  hs = HalfspaceIntersection(halfspaces, feasible_point)\n",
      "/Users/dmitryserg/opt/anaconda3/lib/python3.9/site-packages/nashpy/polytope/polytope.py:109: RuntimeWarning: invalid value encountered in divide\n",
      "  hs = HalfspaceIntersection(halfspaces, feasible_point)\n"
     ]
    }
   ],
   "source": [
    "A = np.array([\n",
    "    [-1000, -1, -1],\n",
    "    [-1000, 1, 0],\n",
    "    [-1000, 0, 0]\n",
    "])\n",
    "\n",
    "B = np.array([\n",
    "    [-1000, -1000, -1000],\n",
    "    [-1, 1, 0],\n",
    "    [-1, 0, 0]\n",
    "])\n",
    "\n",
    "# Define the game\n",
    "game = nash.Game(A, B)\n",
    "\n",
    "# Find Nash equilibria\n",
    "equilibria = list(game.vertex_enumeration())\n",
    "\n",
    "# Display the equilibria\n",
    "for eq in equilibria:\n",
    "    print(\"Player 1 strategy:\", np.round(eq[0]))\n",
    "    print(\"Player 2 strategy:\", np.round(eq[1]))\n",
    "    print()"
   ]
  },
  {
   "cell_type": "code",
   "execution_count": 65,
   "metadata": {},
   "outputs": [],
   "source": [
    "def remove_dominated_strategies(A, B):\n",
    "    def is_dominated(payoff_matrix, strategy):\n",
    "        num_strategies = payoff_matrix.shape[0]\n",
    "        for other_strategy in range(num_strategies):\n",
    "            if other_strategy != strategy:\n",
    "                if all(payoff_matrix[strategy, :] <= payoff_matrix[other_strategy, :]):\n",
    "                    return True\n",
    "        return False\n",
    "\n",
    "    def get_non_dominated_strategies(payoff_matrix):\n",
    "        return [i for i in range(payoff_matrix.shape[0]) if not is_dominated(payoff_matrix, i)]\n",
    "\n",
    "    non_dominated_A = get_non_dominated_strategies(A)\n",
    "    non_dominated_B = get_non_dominated_strategies(B.T)\n",
    "\n",
    "    non_dominated_strategies = list(set(non_dominated_A) & set(non_dominated_B))\n",
    "    A_reduced = A[non_dominated_strategies][:, non_dominated_strategies]\n",
    "    B_reduced = B[non_dominated_strategies][:, non_dominated_strategies]\n",
    "\n",
    "    return A_reduced, B_reduced\n",
    "\n",
    "# Payoff matrix for Player 1 with -np.inf replaced by -999\n",
    "payoffs = np.array([\n",
    "    [[-999, -999], [-1, -999], [-1, -999]],\n",
    "    [[-999, -1], [1, 1], [0, 0]],\n",
    "    [[-999, -1], [0, 0], [0, 0]]\n",
    "])\n",
    "\n",
    "C_1 = payoffs[:, :, 0]  # Player 1's payoffs\n",
    "C_2 = payoffs[:, :, 1]  # Player 2's payoffs\n",
    "\n",
    "game = nash.Game(C_1, C_2)\n",
    "\n",
    "# Remove dominated strategies\n",
    "C_1_reduced, C_2_reduced = remove_dominated_strategies(C_1, C_2)\n",
    "\n",
    "# Define the reduced game\n",
    "reduced_game = nash.Game(C_1_reduced, C_2_reduced)"
   ]
  },
  {
   "cell_type": "code",
   "execution_count": 67,
   "metadata": {},
   "outputs": [
    {
     "data": {
      "text/plain": [
       "Bi matrix game with payoff matrices:\n",
       "\n",
       "Row player:\n",
       "[[1]]\n",
       "\n",
       "Column player:\n",
       "[[1]]"
      ]
     },
     "execution_count": 67,
     "metadata": {},
     "output_type": "execute_result"
    }
   ],
   "source": [
    "reduced_game"
   ]
  },
  {
   "cell_type": "code",
   "execution_count": 66,
   "metadata": {},
   "outputs": [
    {
     "name": "stdout",
     "output_type": "stream",
     "text": [
      "Nash Equilibrium: (array([1.]), array([1.]))\n",
      "Player 1 strategy: [1.]\n",
      "Player 2 strategy: [1.]\n",
      "\n"
     ]
    }
   ],
   "source": [
    "# Find Nash equilibria using vertex enumeration\n",
    "equilibria_reduced = list(reduced_game.support_enumeration())\n",
    "\n",
    "# Display the equilibria\n",
    "for eq in equilibria_reduced:\n",
    "    print(\"Nash Equilibrium:\", eq)\n",
    "    print(\"Player 1 strategy:\", eq[0])\n",
    "    print(\"Player 2 strategy:\", eq[1])\n",
    "    print()"
   ]
  },
  {
   "cell_type": "code",
   "execution_count": 110,
   "metadata": {},
   "outputs": [
    {
     "data": {
      "text/plain": [
       "[(array([1., 0., 0.]), array([1., 0., 0.])),\n",
       " (array([0., 1., 0.]), array([0., 1., 0.])),\n",
       " (array([0., 1., 0.]), array([0., 1., 0.])),\n",
       " (array([1., 0., 0.]), array([1., 0., 0.])),\n",
       " (array([0., 1., 0.]), array([0., 1., 0.])),\n",
       " (array([0., 1., 0.]), array([0., 1., 0.]))]"
      ]
     },
     "execution_count": 110,
     "metadata": {},
     "output_type": "execute_result"
    }
   ],
   "source": [
    "list(game.lemke_howson_enumeration())"
   ]
  },
  {
   "cell_type": "code",
   "execution_count": null,
   "metadata": {},
   "outputs": [],
   "source": []
  }
 ],
 "metadata": {
  "kernelspec": {
   "display_name": "base",
   "language": "python",
   "name": "python3"
  },
  "language_info": {
   "codemirror_mode": {
    "name": "ipython",
    "version": 3
   },
   "file_extension": ".py",
   "mimetype": "text/x-python",
   "name": "python",
   "nbconvert_exporter": "python",
   "pygments_lexer": "ipython3",
   "version": "3.9.7"
  }
 },
 "nbformat": 4,
 "nbformat_minor": 2
}
